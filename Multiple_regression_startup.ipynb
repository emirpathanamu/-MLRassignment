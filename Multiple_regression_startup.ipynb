{
  "nbformat": 4,
  "nbformat_minor": 0,
  "metadata": {
    "colab": {
      "provenance": []
    },
    "kernelspec": {
      "name": "python3",
      "display_name": "Python 3"
    },
    "language_info": {
      "name": "python"
    }
  },
  "cells": [
    {
      "cell_type": "markdown",
      "source": [
        "# Importing Libraries"
      ],
      "metadata": {
        "id": "CBNtFjMcqMzK"
      }
    },
    {
      "cell_type": "code",
      "source": [
        "import numpy as np\n",
        "import pandas as pd\n",
        "import matplotlib.pyplot as plt\n",
        "import seaborn as sns\n",
        "from sklearn.compose import ColumnTransformer\n",
        "from sklearn.preprocessing import OneHotEncoder\n",
        "import sklearn.metrics as metrics\n",
        "from sklearn.metrics import mean_absolute_error, mean_squared_error, r2_score\n",
        "import math\n",
        "from sklearn.linear_model import LinearRegression\n"
      ],
      "metadata": {
        "id": "YstzWtk6pifz"
      },
      "execution_count": 1,
      "outputs": []
    },
    {
      "cell_type": "markdown",
      "source": [
        "# Importing Dataset"
      ],
      "metadata": {
        "id": "0-acrUOWq8YY"
      }
    },
    {
      "cell_type": "code",
      "source": [
        "dataset = pd.read_csv(\"/content/50_Startups.csv\")"
      ],
      "metadata": {
        "id": "LuDTm7Wrq_25"
      },
      "execution_count": 2,
      "outputs": []
    },
    {
      "cell_type": "code",
      "source": [
        "dataset.head()"
      ],
      "metadata": {
        "colab": {
          "base_uri": "https://localhost:8080/",
          "height": 206
        },
        "id": "TqLR2oU0aOoQ",
        "outputId": "ea128fba-42ec-40e9-f201-ab60ac3e22f8"
      },
      "execution_count": 3,
      "outputs": [
        {
          "output_type": "execute_result",
          "data": {
            "text/plain": [
              "   R&D Spend  Administration  Marketing Spend       State     Profit\n",
              "0  165349.20       136897.80        471784.10    New York  192261.83\n",
              "1  162597.70       151377.59        443898.53  California  191792.06\n",
              "2  153441.51       101145.55        407934.54     Florida  191050.39\n",
              "3  144372.41       118671.85        383199.62    New York  182901.99\n",
              "4  142107.34        91391.77        366168.42     Florida  166187.94"
            ],
            "text/html": [
              "\n",
              "  <div id=\"df-cf63efd3-4960-46bf-8978-5049e088461b\">\n",
              "    <div class=\"colab-df-container\">\n",
              "      <div>\n",
              "<style scoped>\n",
              "    .dataframe tbody tr th:only-of-type {\n",
              "        vertical-align: middle;\n",
              "    }\n",
              "\n",
              "    .dataframe tbody tr th {\n",
              "        vertical-align: top;\n",
              "    }\n",
              "\n",
              "    .dataframe thead th {\n",
              "        text-align: right;\n",
              "    }\n",
              "</style>\n",
              "<table border=\"1\" class=\"dataframe\">\n",
              "  <thead>\n",
              "    <tr style=\"text-align: right;\">\n",
              "      <th></th>\n",
              "      <th>R&amp;D Spend</th>\n",
              "      <th>Administration</th>\n",
              "      <th>Marketing Spend</th>\n",
              "      <th>State</th>\n",
              "      <th>Profit</th>\n",
              "    </tr>\n",
              "  </thead>\n",
              "  <tbody>\n",
              "    <tr>\n",
              "      <th>0</th>\n",
              "      <td>165349.20</td>\n",
              "      <td>136897.80</td>\n",
              "      <td>471784.10</td>\n",
              "      <td>New York</td>\n",
              "      <td>192261.83</td>\n",
              "    </tr>\n",
              "    <tr>\n",
              "      <th>1</th>\n",
              "      <td>162597.70</td>\n",
              "      <td>151377.59</td>\n",
              "      <td>443898.53</td>\n",
              "      <td>California</td>\n",
              "      <td>191792.06</td>\n",
              "    </tr>\n",
              "    <tr>\n",
              "      <th>2</th>\n",
              "      <td>153441.51</td>\n",
              "      <td>101145.55</td>\n",
              "      <td>407934.54</td>\n",
              "      <td>Florida</td>\n",
              "      <td>191050.39</td>\n",
              "    </tr>\n",
              "    <tr>\n",
              "      <th>3</th>\n",
              "      <td>144372.41</td>\n",
              "      <td>118671.85</td>\n",
              "      <td>383199.62</td>\n",
              "      <td>New York</td>\n",
              "      <td>182901.99</td>\n",
              "    </tr>\n",
              "    <tr>\n",
              "      <th>4</th>\n",
              "      <td>142107.34</td>\n",
              "      <td>91391.77</td>\n",
              "      <td>366168.42</td>\n",
              "      <td>Florida</td>\n",
              "      <td>166187.94</td>\n",
              "    </tr>\n",
              "  </tbody>\n",
              "</table>\n",
              "</div>\n",
              "      <button class=\"colab-df-convert\" onclick=\"convertToInteractive('df-cf63efd3-4960-46bf-8978-5049e088461b')\"\n",
              "              title=\"Convert this dataframe to an interactive table.\"\n",
              "              style=\"display:none;\">\n",
              "        \n",
              "  <svg xmlns=\"http://www.w3.org/2000/svg\" height=\"24px\"viewBox=\"0 0 24 24\"\n",
              "       width=\"24px\">\n",
              "    <path d=\"M0 0h24v24H0V0z\" fill=\"none\"/>\n",
              "    <path d=\"M18.56 5.44l.94 2.06.94-2.06 2.06-.94-2.06-.94-.94-2.06-.94 2.06-2.06.94zm-11 1L8.5 8.5l.94-2.06 2.06-.94-2.06-.94L8.5 2.5l-.94 2.06-2.06.94zm10 10l.94 2.06.94-2.06 2.06-.94-2.06-.94-.94-2.06-.94 2.06-2.06.94z\"/><path d=\"M17.41 7.96l-1.37-1.37c-.4-.4-.92-.59-1.43-.59-.52 0-1.04.2-1.43.59L10.3 9.45l-7.72 7.72c-.78.78-.78 2.05 0 2.83L4 21.41c.39.39.9.59 1.41.59.51 0 1.02-.2 1.41-.59l7.78-7.78 2.81-2.81c.8-.78.8-2.07 0-2.86zM5.41 20L4 18.59l7.72-7.72 1.47 1.35L5.41 20z\"/>\n",
              "  </svg>\n",
              "      </button>\n",
              "      \n",
              "  <style>\n",
              "    .colab-df-container {\n",
              "      display:flex;\n",
              "      flex-wrap:wrap;\n",
              "      gap: 12px;\n",
              "    }\n",
              "\n",
              "    .colab-df-convert {\n",
              "      background-color: #E8F0FE;\n",
              "      border: none;\n",
              "      border-radius: 50%;\n",
              "      cursor: pointer;\n",
              "      display: none;\n",
              "      fill: #1967D2;\n",
              "      height: 32px;\n",
              "      padding: 0 0 0 0;\n",
              "      width: 32px;\n",
              "    }\n",
              "\n",
              "    .colab-df-convert:hover {\n",
              "      background-color: #E2EBFA;\n",
              "      box-shadow: 0px 1px 2px rgba(60, 64, 67, 0.3), 0px 1px 3px 1px rgba(60, 64, 67, 0.15);\n",
              "      fill: #174EA6;\n",
              "    }\n",
              "\n",
              "    [theme=dark] .colab-df-convert {\n",
              "      background-color: #3B4455;\n",
              "      fill: #D2E3FC;\n",
              "    }\n",
              "\n",
              "    [theme=dark] .colab-df-convert:hover {\n",
              "      background-color: #434B5C;\n",
              "      box-shadow: 0px 1px 3px 1px rgba(0, 0, 0, 0.15);\n",
              "      filter: drop-shadow(0px 1px 2px rgba(0, 0, 0, 0.3));\n",
              "      fill: #FFFFFF;\n",
              "    }\n",
              "  </style>\n",
              "\n",
              "      <script>\n",
              "        const buttonEl =\n",
              "          document.querySelector('#df-cf63efd3-4960-46bf-8978-5049e088461b button.colab-df-convert');\n",
              "        buttonEl.style.display =\n",
              "          google.colab.kernel.accessAllowed ? 'block' : 'none';\n",
              "\n",
              "        async function convertToInteractive(key) {\n",
              "          const element = document.querySelector('#df-cf63efd3-4960-46bf-8978-5049e088461b');\n",
              "          const dataTable =\n",
              "            await google.colab.kernel.invokeFunction('convertToInteractive',\n",
              "                                                     [key], {});\n",
              "          if (!dataTable) return;\n",
              "\n",
              "          const docLinkHtml = 'Like what you see? Visit the ' +\n",
              "            '<a target=\"_blank\" href=https://colab.research.google.com/notebooks/data_table.ipynb>data table notebook</a>'\n",
              "            + ' to learn more about interactive tables.';\n",
              "          element.innerHTML = '';\n",
              "          dataTable['output_type'] = 'display_data';\n",
              "          await google.colab.output.renderOutput(dataTable, element);\n",
              "          const docLink = document.createElement('div');\n",
              "          docLink.innerHTML = docLinkHtml;\n",
              "          element.appendChild(docLink);\n",
              "        }\n",
              "      </script>\n",
              "    </div>\n",
              "  </div>\n",
              "  "
            ]
          },
          "metadata": {},
          "execution_count": 3
        }
      ]
    },
    {
      "cell_type": "code",
      "source": [
        "dataset=dataset.rename(columns={'R&D Spend': 'R&D','Administration': 'Admin','Marketing Spend': 'Market','State': 'Stat','Profit': 'Prof' })"
      ],
      "metadata": {
        "id": "79wlxTn5M0gL"
      },
      "execution_count": 4,
      "outputs": []
    },
    {
      "cell_type": "code",
      "source": [
        "dataset.head()"
      ],
      "metadata": {
        "colab": {
          "base_uri": "https://localhost:8080/",
          "height": 206
        },
        "id": "bgfIEm3SOUsa",
        "outputId": "e7db74bf-9f29-4634-fcab-4e2d9fe5866f"
      },
      "execution_count": 5,
      "outputs": [
        {
          "output_type": "execute_result",
          "data": {
            "text/plain": [
              "         R&D      Admin     Market        Stat       Prof\n",
              "0  165349.20  136897.80  471784.10    New York  192261.83\n",
              "1  162597.70  151377.59  443898.53  California  191792.06\n",
              "2  153441.51  101145.55  407934.54     Florida  191050.39\n",
              "3  144372.41  118671.85  383199.62    New York  182901.99\n",
              "4  142107.34   91391.77  366168.42     Florida  166187.94"
            ],
            "text/html": [
              "\n",
              "  <div id=\"df-5cfa446b-9a97-45b0-b908-13cbfafe1dfe\">\n",
              "    <div class=\"colab-df-container\">\n",
              "      <div>\n",
              "<style scoped>\n",
              "    .dataframe tbody tr th:only-of-type {\n",
              "        vertical-align: middle;\n",
              "    }\n",
              "\n",
              "    .dataframe tbody tr th {\n",
              "        vertical-align: top;\n",
              "    }\n",
              "\n",
              "    .dataframe thead th {\n",
              "        text-align: right;\n",
              "    }\n",
              "</style>\n",
              "<table border=\"1\" class=\"dataframe\">\n",
              "  <thead>\n",
              "    <tr style=\"text-align: right;\">\n",
              "      <th></th>\n",
              "      <th>R&amp;D</th>\n",
              "      <th>Admin</th>\n",
              "      <th>Market</th>\n",
              "      <th>Stat</th>\n",
              "      <th>Prof</th>\n",
              "    </tr>\n",
              "  </thead>\n",
              "  <tbody>\n",
              "    <tr>\n",
              "      <th>0</th>\n",
              "      <td>165349.20</td>\n",
              "      <td>136897.80</td>\n",
              "      <td>471784.10</td>\n",
              "      <td>New York</td>\n",
              "      <td>192261.83</td>\n",
              "    </tr>\n",
              "    <tr>\n",
              "      <th>1</th>\n",
              "      <td>162597.70</td>\n",
              "      <td>151377.59</td>\n",
              "      <td>443898.53</td>\n",
              "      <td>California</td>\n",
              "      <td>191792.06</td>\n",
              "    </tr>\n",
              "    <tr>\n",
              "      <th>2</th>\n",
              "      <td>153441.51</td>\n",
              "      <td>101145.55</td>\n",
              "      <td>407934.54</td>\n",
              "      <td>Florida</td>\n",
              "      <td>191050.39</td>\n",
              "    </tr>\n",
              "    <tr>\n",
              "      <th>3</th>\n",
              "      <td>144372.41</td>\n",
              "      <td>118671.85</td>\n",
              "      <td>383199.62</td>\n",
              "      <td>New York</td>\n",
              "      <td>182901.99</td>\n",
              "    </tr>\n",
              "    <tr>\n",
              "      <th>4</th>\n",
              "      <td>142107.34</td>\n",
              "      <td>91391.77</td>\n",
              "      <td>366168.42</td>\n",
              "      <td>Florida</td>\n",
              "      <td>166187.94</td>\n",
              "    </tr>\n",
              "  </tbody>\n",
              "</table>\n",
              "</div>\n",
              "      <button class=\"colab-df-convert\" onclick=\"convertToInteractive('df-5cfa446b-9a97-45b0-b908-13cbfafe1dfe')\"\n",
              "              title=\"Convert this dataframe to an interactive table.\"\n",
              "              style=\"display:none;\">\n",
              "        \n",
              "  <svg xmlns=\"http://www.w3.org/2000/svg\" height=\"24px\"viewBox=\"0 0 24 24\"\n",
              "       width=\"24px\">\n",
              "    <path d=\"M0 0h24v24H0V0z\" fill=\"none\"/>\n",
              "    <path d=\"M18.56 5.44l.94 2.06.94-2.06 2.06-.94-2.06-.94-.94-2.06-.94 2.06-2.06.94zm-11 1L8.5 8.5l.94-2.06 2.06-.94-2.06-.94L8.5 2.5l-.94 2.06-2.06.94zm10 10l.94 2.06.94-2.06 2.06-.94-2.06-.94-.94-2.06-.94 2.06-2.06.94z\"/><path d=\"M17.41 7.96l-1.37-1.37c-.4-.4-.92-.59-1.43-.59-.52 0-1.04.2-1.43.59L10.3 9.45l-7.72 7.72c-.78.78-.78 2.05 0 2.83L4 21.41c.39.39.9.59 1.41.59.51 0 1.02-.2 1.41-.59l7.78-7.78 2.81-2.81c.8-.78.8-2.07 0-2.86zM5.41 20L4 18.59l7.72-7.72 1.47 1.35L5.41 20z\"/>\n",
              "  </svg>\n",
              "      </button>\n",
              "      \n",
              "  <style>\n",
              "    .colab-df-container {\n",
              "      display:flex;\n",
              "      flex-wrap:wrap;\n",
              "      gap: 12px;\n",
              "    }\n",
              "\n",
              "    .colab-df-convert {\n",
              "      background-color: #E8F0FE;\n",
              "      border: none;\n",
              "      border-radius: 50%;\n",
              "      cursor: pointer;\n",
              "      display: none;\n",
              "      fill: #1967D2;\n",
              "      height: 32px;\n",
              "      padding: 0 0 0 0;\n",
              "      width: 32px;\n",
              "    }\n",
              "\n",
              "    .colab-df-convert:hover {\n",
              "      background-color: #E2EBFA;\n",
              "      box-shadow: 0px 1px 2px rgba(60, 64, 67, 0.3), 0px 1px 3px 1px rgba(60, 64, 67, 0.15);\n",
              "      fill: #174EA6;\n",
              "    }\n",
              "\n",
              "    [theme=dark] .colab-df-convert {\n",
              "      background-color: #3B4455;\n",
              "      fill: #D2E3FC;\n",
              "    }\n",
              "\n",
              "    [theme=dark] .colab-df-convert:hover {\n",
              "      background-color: #434B5C;\n",
              "      box-shadow: 0px 1px 3px 1px rgba(0, 0, 0, 0.15);\n",
              "      filter: drop-shadow(0px 1px 2px rgba(0, 0, 0, 0.3));\n",
              "      fill: #FFFFFF;\n",
              "    }\n",
              "  </style>\n",
              "\n",
              "      <script>\n",
              "        const buttonEl =\n",
              "          document.querySelector('#df-5cfa446b-9a97-45b0-b908-13cbfafe1dfe button.colab-df-convert');\n",
              "        buttonEl.style.display =\n",
              "          google.colab.kernel.accessAllowed ? 'block' : 'none';\n",
              "\n",
              "        async function convertToInteractive(key) {\n",
              "          const element = document.querySelector('#df-5cfa446b-9a97-45b0-b908-13cbfafe1dfe');\n",
              "          const dataTable =\n",
              "            await google.colab.kernel.invokeFunction('convertToInteractive',\n",
              "                                                     [key], {});\n",
              "          if (!dataTable) return;\n",
              "\n",
              "          const docLinkHtml = 'Like what you see? Visit the ' +\n",
              "            '<a target=\"_blank\" href=https://colab.research.google.com/notebooks/data_table.ipynb>data table notebook</a>'\n",
              "            + ' to learn more about interactive tables.';\n",
              "          element.innerHTML = '';\n",
              "          dataTable['output_type'] = 'display_data';\n",
              "          await google.colab.output.renderOutput(dataTable, element);\n",
              "          const docLink = document.createElement('div');\n",
              "          docLink.innerHTML = docLinkHtml;\n",
              "          element.appendChild(docLink);\n",
              "        }\n",
              "      </script>\n",
              "    </div>\n",
              "  </div>\n",
              "  "
            ]
          },
          "metadata": {},
          "execution_count": 5
        }
      ]
    },
    {
      "cell_type": "code",
      "source": [
        "dataset.info()"
      ],
      "metadata": {
        "colab": {
          "base_uri": "https://localhost:8080/"
        },
        "id": "MyrIYBAzaSNH",
        "outputId": "26935c17-5a1a-4a57-b717-399960dbe15d"
      },
      "execution_count": 6,
      "outputs": [
        {
          "output_type": "stream",
          "name": "stdout",
          "text": [
            "<class 'pandas.core.frame.DataFrame'>\n",
            "RangeIndex: 50 entries, 0 to 49\n",
            "Data columns (total 5 columns):\n",
            " #   Column  Non-Null Count  Dtype  \n",
            "---  ------  --------------  -----  \n",
            " 0   R&D     50 non-null     float64\n",
            " 1   Admin   50 non-null     float64\n",
            " 2   Market  50 non-null     float64\n",
            " 3   Stat    50 non-null     object \n",
            " 4   Prof    50 non-null     float64\n",
            "dtypes: float64(4), object(1)\n",
            "memory usage: 2.1+ KB\n"
          ]
        }
      ]
    },
    {
      "cell_type": "code",
      "source": [
        "from scipy.stats.distributions import nakagami\n",
        "plt.figure(figsize=(20,10))\n",
        "plt.tight_layout()\n",
        "sns.distplot(dataset['R&D'])\n",
        "sns.distplot(dataset['Admin'])\n",
        "sns.distplot(dataset['Market'])\n",
        "sns.distplot(dataset['Prof'])\n",
        "plt.show() "
      ],
      "metadata": {
        "colab": {
          "base_uri": "https://localhost:8080/",
          "height": 781
        },
        "id": "m8hRgNNcOci8",
        "outputId": "866b8457-8a7c-4dba-a45f-1fcd2b23f06f"
      },
      "execution_count": 7,
      "outputs": [
        {
          "output_type": "stream",
          "name": "stderr",
          "text": [
            "/usr/local/lib/python3.8/dist-packages/seaborn/distributions.py:2619: FutureWarning: `distplot` is a deprecated function and will be removed in a future version. Please adapt your code to use either `displot` (a figure-level function with similar flexibility) or `histplot` (an axes-level function for histograms).\n",
            "  warnings.warn(msg, FutureWarning)\n",
            "/usr/local/lib/python3.8/dist-packages/seaborn/distributions.py:2619: FutureWarning: `distplot` is a deprecated function and will be removed in a future version. Please adapt your code to use either `displot` (a figure-level function with similar flexibility) or `histplot` (an axes-level function for histograms).\n",
            "  warnings.warn(msg, FutureWarning)\n",
            "/usr/local/lib/python3.8/dist-packages/seaborn/distributions.py:2619: FutureWarning: `distplot` is a deprecated function and will be removed in a future version. Please adapt your code to use either `displot` (a figure-level function with similar flexibility) or `histplot` (an axes-level function for histograms).\n",
            "  warnings.warn(msg, FutureWarning)\n",
            "/usr/local/lib/python3.8/dist-packages/seaborn/distributions.py:2619: FutureWarning: `distplot` is a deprecated function and will be removed in a future version. Please adapt your code to use either `displot` (a figure-level function with similar flexibility) or `histplot` (an axes-level function for histograms).\n",
            "  warnings.warn(msg, FutureWarning)\n"
          ]
        },
        {
          "output_type": "display_data",
          "data": {
            "text/plain": [
              "<Figure size 1440x720 with 1 Axes>"
            ],
            "image/png": "[encoded data removed]"
          },
          "metadata": {
            "needs_background": "light"
          }
        }
      ]
    },
    {
      "cell_type": "code",
      "source": [
        "dataset.replace(0, np.nan, inplace=True)"
      ],
      "metadata": {
        "id": "PDjF9LPSmqMe"
      },
      "execution_count": 8,
      "outputs": []
    },
    {
      "cell_type": "code",
      "source": [
        "print(dataset)"
      ],
      "metadata": {
        "colab": {
          "base_uri": "https://localhost:8080/"
        },
        "id": "ggAhE4qQ1_R1",
        "outputId": "36ff3372-6abf-4a2e-fd01-9ddf84e34c5f"
      },
      "execution_count": 9,
      "outputs": [
        {
          "output_type": "stream",
          "name": "stdout",
          "text": [
            "          R&D      Admin     Market        Stat       Prof\n",
            "0   165349.20  136897.80  471784.10    New York  192261.83\n",
            "1   162597.70  151377.59  443898.53  California  191792.06\n",
            "2   153441.51  101145.55  407934.54     Florida  191050.39\n",
            "3   144372.41  118671.85  383199.62    New York  182901.99\n",
            "4   142107.34   91391.77  366168.42     Florida  166187.94\n",
            "5   131876.90   99814.71  362861.36    New York  156991.12\n",
            "6   134615.46  147198.87  127716.82  California  156122.51\n",
            "7   130298.13  145530.06  323876.68     Florida  155752.60\n",
            "8   120542.52  148718.95  311613.29    New York  152211.77\n",
            "9   123334.88  108679.17  304981.62  California  149759.96\n",
            "10  101913.08  110594.11  229160.95     Florida  146121.95\n",
            "11  100671.96   91790.61  249744.55  California  144259.40\n",
            "12   93863.75  127320.38  249839.44     Florida  141585.52\n",
            "13   91992.39  135495.07  252664.93  California  134307.35\n",
            "14  119943.24  156547.42  256512.92     Florida  132602.65\n",
            "15  114523.61  122616.84  261776.23    New York  129917.04\n",
            "16   78013.11  121597.55  264346.06  California  126992.93\n",
            "17   94657.16  145077.58  282574.31    New York  125370.37\n",
            "18   91749.16  114175.79  294919.57     Florida  124266.90\n",
            "19   86419.70  153514.11        NaN    New York  122776.86\n",
            "20   76253.86  113867.30  298664.47  California  118474.03\n",
            "21   78389.47  153773.43  299737.29    New York  111313.02\n",
            "22   73994.56  122782.75  303319.26     Florida  110352.25\n",
            "23   67532.53  105751.03  304768.73     Florida  108733.99\n",
            "24   77044.01   99281.34  140574.81    New York  108552.04\n",
            "25   64664.71  139553.16  137962.62  California  107404.34\n",
            "26   75328.87  144135.98  134050.07     Florida  105733.54\n",
            "27   72107.60  127864.55  353183.81    New York  105008.31\n",
            "28   66051.52  182645.56  118148.20     Florida  103282.38\n",
            "29   65605.48  153032.06  107138.38    New York  101004.64\n",
            "30   61994.48  115641.28   91131.24     Florida   99937.59\n",
            "31   61136.38  152701.92   88218.23    New York   97483.56\n",
            "32   63408.86  129219.61   46085.25  California   97427.84\n",
            "33   55493.95  103057.49  214634.81     Florida   96778.92\n",
            "34   46426.07  157693.92  210797.67  California   96712.80\n",
            "35   46014.02   85047.44  205517.64    New York   96479.51\n",
            "36   28663.76  127056.21  201126.82     Florida   90708.19\n",
            "37   44069.95   51283.14  197029.42  California   89949.14\n",
            "38   20229.59   65947.93  185265.10    New York   81229.06\n",
            "39   38558.51   82982.09  174999.30  California   81005.76\n",
            "40   28754.33  118546.05  172795.67  California   78239.91\n",
            "41   27892.92   84710.77  164470.71     Florida   77798.83\n",
            "42   23640.93   96189.63  148001.11  California   71498.49\n",
            "43   15505.73  127382.30   35534.17    New York   69758.98\n",
            "44   22177.74  154806.14   28334.72  California   65200.33\n",
            "45    1000.23  124153.04    1903.93    New York   64926.08\n",
            "46    1315.46  115816.21  297114.46     Florida   49490.75\n",
            "47        NaN  135426.92        NaN  California   42559.73\n",
            "48     542.05   51743.15        NaN    New York   35673.41\n",
            "49        NaN  116983.80   45173.06  California   14681.40\n"
          ]
        }
      ]
    },
    {
      "cell_type": "code",
      "source": [
        "dataset.isnull().sum()"
      ],
      "metadata": {
        "colab": {
          "base_uri": "https://localhost:8080/"
        },
        "id": "F3OzQDPXWT5c",
        "outputId": "22b2d2a0-a9ab-4a6d-80a7-adbc3e9bee73"
      },
      "execution_count": 10,
      "outputs": [
        {
          "output_type": "execute_result",
          "data": {
            "text/plain": [
              "R&D       2\n",
              "Admin     0\n",
              "Market    3\n",
              "Stat      0\n",
              "Prof      0\n",
              "dtype: int64"
            ]
          },
          "metadata": {},
          "execution_count": 10
        }
      ]
    },
    {
      "cell_type": "code",
      "source": [
        "dataset[['R&D', 'Market']] = dataset[['R&D', 'Market']].fillna(dataset[['R&D', 'Market']].mean())"
      ],
      "metadata": {
        "id": "oiEYIT-13g-h"
      },
      "execution_count": 11,
      "outputs": []
    },
    {
      "cell_type": "code",
      "source": [
        "print(dataset)"
      ],
      "metadata": {
        "colab": {
          "base_uri": "https://localhost:8080/"
        },
        "id": "kF9gnzIY52b_",
        "outputId": "84c04696-934e-4326-c440-9af187320d40"
      },
      "execution_count": 12,
      "outputs": [
        {
          "output_type": "stream",
          "name": "stdout",
          "text": [
            "              R&D      Admin         Market        Stat       Prof\n",
            "0   165349.200000  136897.80  471784.100000    New York  192261.83\n",
            "1   162597.700000  151377.59  443898.530000  California  191792.06\n",
            "2   153441.510000  101145.55  407934.540000     Florida  191050.39\n",
            "3   144372.410000  118671.85  383199.620000    New York  182901.99\n",
            "4   142107.340000   91391.77  366168.420000     Florida  166187.94\n",
            "5   131876.900000   99814.71  362861.360000    New York  156991.12\n",
            "6   134615.460000  147198.87  127716.820000  California  156122.51\n",
            "7   130298.130000  145530.06  323876.680000     Florida  155752.60\n",
            "8   120542.520000  148718.95  311613.290000    New York  152211.77\n",
            "9   123334.880000  108679.17  304981.620000  California  149759.96\n",
            "10  101913.080000  110594.11  229160.950000     Florida  146121.95\n",
            "11  100671.960000   91790.61  249744.550000  California  144259.40\n",
            "12   93863.750000  127320.38  249839.440000     Florida  141585.52\n",
            "13   91992.390000  135495.07  252664.930000  California  134307.35\n",
            "14  119943.240000  156547.42  256512.920000     Florida  132602.65\n",
            "15  114523.610000  122616.84  261776.230000    New York  129917.04\n",
            "16   78013.110000  121597.55  264346.060000  California  126992.93\n",
            "17   94657.160000  145077.58  282574.310000    New York  125370.37\n",
            "18   91749.160000  114175.79  294919.570000     Florida  124266.90\n",
            "19   86419.700000  153514.11  224494.784894    New York  122776.86\n",
            "20   76253.860000  113867.30  298664.470000  California  118474.03\n",
            "21   78389.470000  153773.43  299737.290000    New York  111313.02\n",
            "22   73994.560000  122782.75  303319.260000     Florida  110352.25\n",
            "23   67532.530000  105751.03  304768.730000     Florida  108733.99\n",
            "24   77044.010000   99281.34  140574.810000    New York  108552.04\n",
            "25   64664.710000  139553.16  137962.620000  California  107404.34\n",
            "26   75328.870000  144135.98  134050.070000     Florida  105733.54\n",
            "27   72107.600000  127864.55  353183.810000    New York  105008.31\n",
            "28   66051.520000  182645.56  118148.200000     Florida  103282.38\n",
            "29   65605.480000  153032.06  107138.380000    New York  101004.64\n",
            "30   61994.480000  115641.28   91131.240000     Florida   99937.59\n",
            "31   61136.380000  152701.92   88218.230000    New York   97483.56\n",
            "32   63408.860000  129219.61   46085.250000  California   97427.84\n",
            "33   55493.950000  103057.49  214634.810000     Florida   96778.92\n",
            "34   46426.070000  157693.92  210797.670000  California   96712.80\n",
            "35   46014.020000   85047.44  205517.640000    New York   96479.51\n",
            "36   28663.760000  127056.21  201126.820000     Florida   90708.19\n",
            "37   44069.950000   51283.14  197029.420000  California   89949.14\n",
            "38   20229.590000   65947.93  185265.100000    New York   81229.06\n",
            "39   38558.510000   82982.09  174999.300000  California   81005.76\n",
            "40   28754.330000  118546.05  172795.670000  California   78239.91\n",
            "41   27892.920000   84710.77  164470.710000     Florida   77798.83\n",
            "42   23640.930000   96189.63  148001.110000  California   71498.49\n",
            "43   15505.730000  127382.30   35534.170000    New York   69758.98\n",
            "44   22177.740000  154806.14   28334.720000  California   65200.33\n",
            "45    1000.230000  124153.04    1903.930000    New York   64926.08\n",
            "46    1315.460000  115816.21  297114.460000     Florida   49490.75\n",
            "47   76793.349583  135426.92  224494.784894  California   42559.73\n",
            "48     542.050000   51743.15  224494.784894    New York   35673.41\n",
            "49   76793.349583  116983.80   45173.060000  California   14681.40\n"
          ]
        }
      ]
    },
    {
      "cell_type": "code",
      "source": [
        "plt.figure(figsize=(10, 6))\n",
        "dataset.boxplot()\n",
        "plt.show()"
      ],
      "metadata": {
        "colab": {
          "base_uri": "https://localhost:8080/",
          "height": 374
        },
        "id": "iJpT7VFxhZpR",
        "outputId": "4ddcdcff-a480-4fc5-e0fd-68cf820e6943"
      },
      "execution_count": 13,
      "outputs": [
        {
          "output_type": "display_data",
          "data": {
            "text/plain": [
              "<Figure size 720x432 with 1 Axes>"
            ],
            "image/png": "[encoded data removed]"
          },
          "metadata": {
            "needs_background": "light"
          }
        }
      ]
    },
    {
      "cell_type": "code",
      "source": [
        "dataset.Stat.unique()\n",
        "stat = dataset.Stat.value_counts()\n",
        "df1 = dataset.groupby(['Stat']).Prof.sum()\n",
        "plt.pie(df1, labels=stat, autopct='%8.0f%%', pctdistance=1.4, labeldistance=1.2)\n",
        "plt.title('State wise profit')\n",
        "plt.show()"
      ],
      "metadata": {
        "colab": {
          "base_uri": "https://localhost:8080/",
          "height": 268
        },
        "id": "7uJQU8djxs1v",
        "outputId": "117b185a-2f27-4420-8488-921f69680ac9"
      },
      "execution_count": 14,
      "outputs": [
        {
          "output_type": "display_data",
          "data": {
            "text/plain": [
              "<Figure size 432x288 with 1 Axes>"
            ],
            "image/png": "[encoded data removed]"
          },
          "metadata": {}
        }
      ]
    },
    {
      "cell_type": "markdown",
      "source": [
        "# Independent and Dependent Variables"
      ],
      "metadata": {
        "id": "VxLL6TQKrjJU"
      }
    },
    {
      "cell_type": "code",
      "source": [
        "sns.set_style(style='darkgrid')\n",
        "sns.pairplot(dataset)"
      ],
      "metadata": {
        "colab": {
          "base_uri": "https://localhost:8080/",
          "height": 744
        },
        "id": "tK-IUDsL7pmz",
        "outputId": "786fbce4-4251-456d-8c80-25412d45178f"
      },
      "execution_count": 15,
      "outputs": [
        {
          "output_type": "execute_result",
          "data": {
            "text/plain": [
              "<seaborn.axisgrid.PairGrid at 0x7fdcd8096760>"
            ]
          },
          "metadata": {},
          "execution_count": 15
        },
        {
          "output_type": "display_data",
          "data": {
            "text/plain": [
              "<Figure size 720x720 with 20 Axes>"
            ],
            "image/png": "[encoded data removed]"
          },
          "metadata": {}
        }
      ]
    },
    {
      "cell_type": "code",
      "source": [
        "X = dataset.iloc[:, :-1].values\n",
        "y = dataset.iloc[:, 4].values"
      ],
      "metadata": {
        "id": "_CJPVEE5v16n"
      },
      "execution_count": 16,
      "outputs": []
    },
    {
      "cell_type": "code",
      "source": [
        "X"
      ],
      "metadata": {
        "colab": {
          "base_uri": "https://localhost:8080/"
        },
        "id": "-6-laBeqayE6",
        "outputId": "0984c147-a437-4096-879b-246a0c99f7aa"
      },
      "execution_count": 17,
      "outputs": [
        {
          "output_type": "execute_result",
          "data": {
            "text/plain": [
              "array([[165349.2, 136897.8, 471784.1, 'New York'],\n",
              "       [162597.7, 151377.59, 443898.53, 'California'],\n",
              "       [153441.51, 101145.55, 407934.54, 'Florida'],\n",
              "       [144372.41, 118671.85, 383199.62, 'New York'],\n",
              "       [142107.34, 91391.77, 366168.42, 'Florida'],\n",
              "       [131876.9, 99814.71, 362861.36, 'New York'],\n",
              "       [134615.46, 147198.87, 127716.82, 'California'],\n",
              "       [130298.13, 145530.06, 323876.68, 'Florida'],\n",
              "       [120542.52, 148718.95, 311613.29, 'New York'],\n",
              "       [123334.88, 108679.17, 304981.62, 'California'],\n",
              "       [101913.08, 110594.11, 229160.95, 'Florida'],\n",
              "       [100671.96, 91790.61, 249744.55, 'California'],\n",
              "       [93863.75, 127320.38, 249839.44, 'Florida'],\n",
              "       [91992.39, 135495.07, 252664.93, 'California'],\n",
              "       [119943.24, 156547.42, 256512.92, 'Florida'],\n",
              "       [114523.61, 122616.84, 261776.23, 'New York'],\n",
              "       [78013.11, 121597.55, 264346.06, 'California'],\n",
              "       [94657.16, 145077.58, 282574.31, 'New York'],\n",
              "       [91749.16, 114175.79, 294919.57, 'Florida'],\n",
              "       [86419.7, 153514.11, 224494.78489361703, 'New York'],\n",
              "       [76253.86, 113867.3, 298664.47, 'California'],\n",
              "       [78389.47, 153773.43, 299737.29, 'New York'],\n",
              "       [73994.56, 122782.75, 303319.26, 'Florida'],\n",
              "       [67532.53, 105751.03, 304768.73, 'Florida'],\n",
              "       [77044.01, 99281.34, 140574.81, 'New York'],\n",
              "       [64664.71, 139553.16, 137962.62, 'California'],\n",
              "       [75328.87, 144135.98, 134050.07, 'Florida'],\n",
              "       [72107.6, 127864.55, 353183.81, 'New York'],\n",
              "       [66051.52, 182645.56, 118148.2, 'Florida'],\n",
              "       [65605.48, 153032.06, 107138.38, 'New York'],\n",
              "       [61994.48, 115641.28, 91131.24, 'Florida'],\n",
              "       [61136.38, 152701.92, 88218.23, 'New York'],\n",
              "       [63408.86, 129219.61, 46085.25, 'California'],\n",
              "       [55493.95, 103057.49, 214634.81, 'Florida'],\n",
              "       [46426.07, 157693.92, 210797.67, 'California'],\n",
              "       [46014.02, 85047.44, 205517.64, 'New York'],\n",
              "       [28663.76, 127056.21, 201126.82, 'Florida'],\n",
              "       [44069.95, 51283.14, 197029.42, 'California'],\n",
              "       [20229.59, 65947.93, 185265.1, 'New York'],\n",
              "       [38558.51, 82982.09, 174999.3, 'California'],\n",
              "       [28754.33, 118546.05, 172795.67, 'California'],\n",
              "       [27892.92, 84710.77, 164470.71, 'Florida'],\n",
              "       [23640.93, 96189.63, 148001.11, 'California'],\n",
              "       [15505.73, 127382.3, 35534.17, 'New York'],\n",
              "       [22177.74, 154806.14, 28334.72, 'California'],\n",
              "       [1000.23, 124153.04, 1903.93, 'New York'],\n",
              "       [1315.46, 115816.21, 297114.46, 'Florida'],\n",
              "       [76793.34958333334, 135426.92, 224494.78489361703, 'California'],\n",
              "       [542.05, 51743.15, 224494.78489361703, 'New York'],\n",
              "       [76793.34958333334, 116983.8, 45173.06, 'California']],\n",
              "      dtype=object)"
            ]
          },
          "metadata": {},
          "execution_count": 17
        }
      ]
    },
    {
      "cell_type": "code",
      "source": [
        "y"
      ],
      "metadata": {
        "colab": {
          "base_uri": "https://localhost:8080/"
        },
        "id": "2oDWJXAba1jt",
        "outputId": "a1144051-db6f-4d68-d6c2-04153c8610ce"
      },
      "execution_count": 18,
      "outputs": [
        {
          "output_type": "execute_result",
          "data": {
            "text/plain": [
              "array([192261.83, 191792.06, 191050.39, 182901.99, 166187.94, 156991.12,\n",
              "       156122.51, 155752.6 , 152211.77, 149759.96, 146121.95, 144259.4 ,\n",
              "       141585.52, 134307.35, 132602.65, 129917.04, 126992.93, 125370.37,\n",
              "       124266.9 , 122776.86, 118474.03, 111313.02, 110352.25, 108733.99,\n",
              "       108552.04, 107404.34, 105733.54, 105008.31, 103282.38, 101004.64,\n",
              "        99937.59,  97483.56,  97427.84,  96778.92,  96712.8 ,  96479.51,\n",
              "        90708.19,  89949.14,  81229.06,  81005.76,  78239.91,  77798.83,\n",
              "        71498.49,  69758.98,  65200.33,  64926.08,  49490.75,  42559.73,\n",
              "        35673.41,  14681.4 ])"
            ]
          },
          "metadata": {},
          "execution_count": 18
        }
      ]
    },
    {
      "cell_type": "code",
      "source": [],
      "metadata": {
        "id": "ROs6YFNQ4hKt"
      },
      "execution_count": 18,
      "outputs": []
    },
    {
      "cell_type": "markdown",
      "source": [
        "#Encoding Categorical Data"
      ],
      "metadata": {
        "id": "5M2pKSWf4EbC"
      }
    },
    {
      "cell_type": "code",
      "source": [
        "ct = ColumnTransformer(transformers = [('encoder', OneHotEncoder(), [3])], remainder = 'passthrough')\n",
        "X = np.array(ct.fit_transform(X))"
      ],
      "metadata": {
        "id": "tGHpg9ly4Ftf"
      },
      "execution_count": 19,
      "outputs": []
    },
    {
      "cell_type": "code",
      "source": [
        "X"
      ],
      "metadata": {
        "colab": {
          "base_uri": "https://localhost:8080/"
        },
        "id": "N7CCJzfbcghA",
        "outputId": "a954e277-f0b0-4f51-ace0-8801767e27d3"
      },
      "execution_count": 20,
      "outputs": [
        {
          "output_type": "execute_result",
          "data": {
            "text/plain": [
              "array([[0.0, 0.0, 1.0, 165349.2, 136897.8, 471784.1],\n",
              "       [1.0, 0.0, 0.0, 162597.7, 151377.59, 443898.53],\n",
              "       [0.0, 1.0, 0.0, 153441.51, 101145.55, 407934.54],\n",
              "       [0.0, 0.0, 1.0, 144372.41, 118671.85, 383199.62],\n",
              "       [0.0, 1.0, 0.0, 142107.34, 91391.77, 366168.42],\n",
              "       [0.0, 0.0, 1.0, 131876.9, 99814.71, 362861.36],\n",
              "       [1.0, 0.0, 0.0, 134615.46, 147198.87, 127716.82],\n",
              "       [0.0, 1.0, 0.0, 130298.13, 145530.06, 323876.68],\n",
              "       [0.0, 0.0, 1.0, 120542.52, 148718.95, 311613.29],\n",
              "       [1.0, 0.0, 0.0, 123334.88, 108679.17, 304981.62],\n",
              "       [0.0, 1.0, 0.0, 101913.08, 110594.11, 229160.95],\n",
              "       [1.0, 0.0, 0.0, 100671.96, 91790.61, 249744.55],\n",
              "       [0.0, 1.0, 0.0, 93863.75, 127320.38, 249839.44],\n",
              "       [1.0, 0.0, 0.0, 91992.39, 135495.07, 252664.93],\n",
              "       [0.0, 1.0, 0.0, 119943.24, 156547.42, 256512.92],\n",
              "       [0.0, 0.0, 1.0, 114523.61, 122616.84, 261776.23],\n",
              "       [1.0, 0.0, 0.0, 78013.11, 121597.55, 264346.06],\n",
              "       [0.0, 0.0, 1.0, 94657.16, 145077.58, 282574.31],\n",
              "       [0.0, 1.0, 0.0, 91749.16, 114175.79, 294919.57],\n",
              "       [0.0, 0.0, 1.0, 86419.7, 153514.11, 224494.78489361703],\n",
              "       [1.0, 0.0, 0.0, 76253.86, 113867.3, 298664.47],\n",
              "       [0.0, 0.0, 1.0, 78389.47, 153773.43, 299737.29],\n",
              "       [0.0, 1.0, 0.0, 73994.56, 122782.75, 303319.26],\n",
              "       [0.0, 1.0, 0.0, 67532.53, 105751.03, 304768.73],\n",
              "       [0.0, 0.0, 1.0, 77044.01, 99281.34, 140574.81],\n",
              "       [1.0, 0.0, 0.0, 64664.71, 139553.16, 137962.62],\n",
              "       [0.0, 1.0, 0.0, 75328.87, 144135.98, 134050.07],\n",
              "       [0.0, 0.0, 1.0, 72107.6, 127864.55, 353183.81],\n",
              "       [0.0, 1.0, 0.0, 66051.52, 182645.56, 118148.2],\n",
              "       [0.0, 0.0, 1.0, 65605.48, 153032.06, 107138.38],\n",
              "       [0.0, 1.0, 0.0, 61994.48, 115641.28, 91131.24],\n",
              "       [0.0, 0.0, 1.0, 61136.38, 152701.92, 88218.23],\n",
              "       [1.0, 0.0, 0.0, 63408.86, 129219.61, 46085.25],\n",
              "       [0.0, 1.0, 0.0, 55493.95, 103057.49, 214634.81],\n",
              "       [1.0, 0.0, 0.0, 46426.07, 157693.92, 210797.67],\n",
              "       [0.0, 0.0, 1.0, 46014.02, 85047.44, 205517.64],\n",
              "       [0.0, 1.0, 0.0, 28663.76, 127056.21, 201126.82],\n",
              "       [1.0, 0.0, 0.0, 44069.95, 51283.14, 197029.42],\n",
              "       [0.0, 0.0, 1.0, 20229.59, 65947.93, 185265.1],\n",
              "       [1.0, 0.0, 0.0, 38558.51, 82982.09, 174999.3],\n",
              "       [1.0, 0.0, 0.0, 28754.33, 118546.05, 172795.67],\n",
              "       [0.0, 1.0, 0.0, 27892.92, 84710.77, 164470.71],\n",
              "       [1.0, 0.0, 0.0, 23640.93, 96189.63, 148001.11],\n",
              "       [0.0, 0.0, 1.0, 15505.73, 127382.3, 35534.17],\n",
              "       [1.0, 0.0, 0.0, 22177.74, 154806.14, 28334.72],\n",
              "       [0.0, 0.0, 1.0, 1000.23, 124153.04, 1903.93],\n",
              "       [0.0, 1.0, 0.0, 1315.46, 115816.21, 297114.46],\n",
              "       [1.0, 0.0, 0.0, 76793.34958333334, 135426.92, 224494.78489361703],\n",
              "       [0.0, 0.0, 1.0, 542.05, 51743.15, 224494.78489361703],\n",
              "       [1.0, 0.0, 0.0, 76793.34958333334, 116983.8, 45173.06]],\n",
              "      dtype=object)"
            ]
          },
          "metadata": {},
          "execution_count": 20
        }
      ]
    },
    {
      "cell_type": "code",
      "source": [
        "# Avoiding the Dummy Variable Trap\n",
        "X = X[:, 1:]"
      ],
      "metadata": {
        "id": "hR58TdLyiJo5"
      },
      "execution_count": 21,
      "outputs": []
    },
    {
      "cell_type": "code",
      "source": [
        "X"
      ],
      "metadata": {
        "id": "2YL0-5pLiKb4",
        "outputId": "45b2a232-bedf-4864-a62f-cc75c8a7cd6c",
        "colab": {
          "base_uri": "https://localhost:8080/"
        }
      },
      "execution_count": 22,
      "outputs": [
        {
          "output_type": "execute_result",
          "data": {
            "text/plain": [
              "array([[0.0, 1.0, 165349.2, 136897.8, 471784.1],\n",
              "       [0.0, 0.0, 162597.7, 151377.59, 443898.53],\n",
              "       [1.0, 0.0, 153441.51, 101145.55, 407934.54],\n",
              "       [0.0, 1.0, 144372.41, 118671.85, 383199.62],\n",
              "       [1.0, 0.0, 142107.34, 91391.77, 366168.42],\n",
              "       [0.0, 1.0, 131876.9, 99814.71, 362861.36],\n",
              "       [0.0, 0.0, 134615.46, 147198.87, 127716.82],\n",
              "       [1.0, 0.0, 130298.13, 145530.06, 323876.68],\n",
              "       [0.0, 1.0, 120542.52, 148718.95, 311613.29],\n",
              "       [0.0, 0.0, 123334.88, 108679.17, 304981.62],\n",
              "       [1.0, 0.0, 101913.08, 110594.11, 229160.95],\n",
              "       [0.0, 0.0, 100671.96, 91790.61, 249744.55],\n",
              "       [1.0, 0.0, 93863.75, 127320.38, 249839.44],\n",
              "       [0.0, 0.0, 91992.39, 135495.07, 252664.93],\n",
              "       [1.0, 0.0, 119943.24, 156547.42, 256512.92],\n",
              "       [0.0, 1.0, 114523.61, 122616.84, 261776.23],\n",
              "       [0.0, 0.0, 78013.11, 121597.55, 264346.06],\n",
              "       [0.0, 1.0, 94657.16, 145077.58, 282574.31],\n",
              "       [1.0, 0.0, 91749.16, 114175.79, 294919.57],\n",
              "       [0.0, 1.0, 86419.7, 153514.11, 224494.78489361703],\n",
              "       [0.0, 0.0, 76253.86, 113867.3, 298664.47],\n",
              "       [0.0, 1.0, 78389.47, 153773.43, 299737.29],\n",
              "       [1.0, 0.0, 73994.56, 122782.75, 303319.26],\n",
              "       [1.0, 0.0, 67532.53, 105751.03, 304768.73],\n",
              "       [0.0, 1.0, 77044.01, 99281.34, 140574.81],\n",
              "       [0.0, 0.0, 64664.71, 139553.16, 137962.62],\n",
              "       [1.0, 0.0, 75328.87, 144135.98, 134050.07],\n",
              "       [0.0, 1.0, 72107.6, 127864.55, 353183.81],\n",
              "       [1.0, 0.0, 66051.52, 182645.56, 118148.2],\n",
              "       [0.0, 1.0, 65605.48, 153032.06, 107138.38],\n",
              "       [1.0, 0.0, 61994.48, 115641.28, 91131.24],\n",
              "       [0.0, 1.0, 61136.38, 152701.92, 88218.23],\n",
              "       [0.0, 0.0, 63408.86, 129219.61, 46085.25],\n",
              "       [1.0, 0.0, 55493.95, 103057.49, 214634.81],\n",
              "       [0.0, 0.0, 46426.07, 157693.92, 210797.67],\n",
              "       [0.0, 1.0, 46014.02, 85047.44, 205517.64],\n",
              "       [1.0, 0.0, 28663.76, 127056.21, 201126.82],\n",
              "       [0.0, 0.0, 44069.95, 51283.14, 197029.42],\n",
              "       [0.0, 1.0, 20229.59, 65947.93, 185265.1],\n",
              "       [0.0, 0.0, 38558.51, 82982.09, 174999.3],\n",
              "       [0.0, 0.0, 28754.33, 118546.05, 172795.67],\n",
              "       [1.0, 0.0, 27892.92, 84710.77, 164470.71],\n",
              "       [0.0, 0.0, 23640.93, 96189.63, 148001.11],\n",
              "       [0.0, 1.0, 15505.73, 127382.3, 35534.17],\n",
              "       [0.0, 0.0, 22177.74, 154806.14, 28334.72],\n",
              "       [0.0, 1.0, 1000.23, 124153.04, 1903.93],\n",
              "       [1.0, 0.0, 1315.46, 115816.21, 297114.46],\n",
              "       [0.0, 0.0, 76793.34958333334, 135426.92, 224494.78489361703],\n",
              "       [0.0, 1.0, 542.05, 51743.15, 224494.78489361703],\n",
              "       [0.0, 0.0, 76793.34958333334, 116983.8, 45173.06]], dtype=object)"
            ]
          },
          "metadata": {},
          "execution_count": 22
        }
      ]
    },
    {
      "cell_type": "markdown",
      "source": [
        "# MACHINE LEARNING ALGORITHM"
      ],
      "metadata": {
        "id": "LPFdLV0ZVliN"
      }
    },
    {
      "cell_type": "code",
      "source": [
        "#Fitting the model\n",
        "regressor = LinearRegression()\n",
        "regressor.fit(X,y)"
      ],
      "metadata": {
        "colab": {
          "base_uri": "https://localhost:8080/"
        },
        "id": "hQU8AodclM4v",
        "outputId": "969fdb07-b957-4eaf-86ba-a10a66c5c707"
      },
      "execution_count": 23,
      "outputs": [
        {
          "output_type": "execute_result",
          "data": {
            "text/plain": [
              "LinearRegression()"
            ]
          },
          "metadata": {},
          "execution_count": 23
        }
      ]
    },
    {
      "cell_type": "code",
      "source": [
        "#Predict my test results\n",
        "y_pred = regressor.predict(X)"
      ],
      "metadata": {
        "id": "vYB6EWEim0Ri"
      },
      "execution_count": 24,
      "outputs": []
    },
    {
      "cell_type": "code",
      "source": [
        "y_pred"
      ],
      "metadata": {
        "colab": {
          "base_uri": "https://localhost:8080/"
        },
        "id": "Of3DkL7Im1c8",
        "outputId": "9e643735-3c37-4c4c-fcb8-9f2ca75c8b92"
      },
      "execution_count": 25,
      "outputs": [
        {
          "output_type": "execute_result",
          "data": {
            "text/plain": [
              "array([192186.38293498, 182831.21013449, 180177.00830542, 171550.35085965,\n",
              "       169413.70169694, 161226.73623506, 142984.62054281, 158941.80171469,\n",
              "       150470.08174044, 145818.52307595, 132502.92658281, 126112.90105144,\n",
              "       128288.36604427, 120607.94812387, 147466.85231791, 142788.20453543,\n",
              "       111311.3815223 , 130278.64804151, 129508.07603396, 120862.67259471,\n",
              "       112157.69919108, 119943.26313101, 117565.22284724, 112908.19844923,\n",
              "       108358.35047993,  94056.13550101, 108021.56740549, 118611.45717211,\n",
              "       100849.12057376,  98704.96103588,  95576.13993145,  94342.21596782,\n",
              "        87248.07256825,  98659.52062501,  85945.82184281,  90362.66734967,\n",
              "        79067.93996818,  82307.03118214,  70638.64365545,  77341.22952857,\n",
              "        70632.13657392,  75765.51620062,  65214.03547228,  58458.79636301,\n",
              "        57214.32239264,  46033.62508185,  65672.43130237, 108070.14492369,\n",
              "        59042.53282163,  96534.76637326])"
            ]
          },
          "metadata": {},
          "execution_count": 25
        }
      ]
    },
    {
      "cell_type": "code",
      "source": [
        "y"
      ],
      "metadata": {
        "colab": {
          "base_uri": "https://localhost:8080/"
        },
        "id": "p5m_M-Zum2oN",
        "outputId": "72bd8b96-26c9-4900-9087-2f6febc0a33e"
      },
      "execution_count": 26,
      "outputs": [
        {
          "output_type": "execute_result",
          "data": {
            "text/plain": [
              "array([192261.83, 191792.06, 191050.39, 182901.99, 166187.94, 156991.12,\n",
              "       156122.51, 155752.6 , 152211.77, 149759.96, 146121.95, 144259.4 ,\n",
              "       141585.52, 134307.35, 132602.65, 129917.04, 126992.93, 125370.37,\n",
              "       124266.9 , 122776.86, 118474.03, 111313.02, 110352.25, 108733.99,\n",
              "       108552.04, 107404.34, 105733.54, 105008.31, 103282.38, 101004.64,\n",
              "        99937.59,  97483.56,  97427.84,  96778.92,  96712.8 ,  96479.51,\n",
              "        90708.19,  89949.14,  81229.06,  81005.76,  78239.91,  77798.83,\n",
              "        71498.49,  69758.98,  65200.33,  64926.08,  49490.75,  42559.73,\n",
              "        35673.41,  14681.4 ])"
            ]
          },
          "metadata": {},
          "execution_count": 26
        }
      ]
    },
    {
      "cell_type": "code",
      "source": [
        "print(\"R2 Squared value: \", r2_score(y,y_pred))"
      ],
      "metadata": {
        "colab": {
          "base_uri": "https://localhost:8080/"
        },
        "id": "UPytt84amrpo",
        "outputId": "2880017f-8874-4a55-a9a5-6a78b60a84a5"
      },
      "execution_count": 27,
      "outputs": [
        {
          "output_type": "stream",
          "name": "stdout",
          "text": [
            "R2 Squared value:  0.8021984704271645\n"
          ]
        }
      ]
    },
    {
      "cell_type": "code",
      "source": [
        "r2_score"
      ],
      "metadata": {
        "colab": {
          "base_uri": "https://localhost:8080/"
        },
        "id": "zP3rBEyGRNdh",
        "outputId": "9d86ad6a-e702-41c9-db49-6dac17fd136d"
      },
      "execution_count": 28,
      "outputs": [
        {
          "output_type": "execute_result",
          "data": {
            "text/plain": [
              "<function sklearn.metrics._regression.r2_score(y_true, y_pred, *, sample_weight=None, multioutput='uniform_average')>"
            ]
          },
          "metadata": {},
          "execution_count": 28
        }
      ]
    },
    {
      "cell_type": "code",
      "source": [
        "\n",
        "MAE = metrics.mean_absolute_error(y, y_pred)\n",
        "MSE = metrics.mean_squared_error(y,y_pred)\n",
        "RMSE = math.sqrt(MSE)\n",
        "# R2_score = r2_score(y,y_pred)\n",
        "\n",
        "print(\"Average absolute error value (MAE):\", MAE)\n",
        "print(\"Mean square error value (MSE):\", MSE)\n",
        "print(\"Root mean square of error (RMSE):\", RMSE)\n",
        "print(\"R2 Squared value: \", r2_score(y,y_pred))"
      ],
      "metadata": {
        "colab": {
          "base_uri": "https://localhost:8080/"
        },
        "id": "L8oXuoK-sIcR",
        "outputId": "416b933e-b146-484a-9b35-1741427ffa14"
      },
      "execution_count": 29,
      "outputs": [
        {
          "output_type": "stream",
          "name": "stdout",
          "text": [
            "Average absolute error value (MAE): 10929.567425061483\n",
            "Mean square error value (MSE): 314919105.1141422\n",
            "Root mean square of error (RMSE): 17745.960247733627\n",
            "R2 Squared value:  0.8021984704271645\n"
          ]
        }
      ]
    },
    {
      "cell_type": "code",
      "source": [
        "plt.scatter(y,y_pred)"
      ],
      "metadata": {
        "colab": {
          "base_uri": "https://localhost:8080/",
          "height": 283
        },
        "id": "rmNQBfFombm3",
        "outputId": "22a55ddd-4639-4f30-e890-d282ce656289"
      },
      "execution_count": 30,
      "outputs": [
        {
          "output_type": "execute_result",
          "data": {
            "text/plain": [
              "<matplotlib.collections.PathCollection at 0x7fdcda4e3d30>"
            ]
          },
          "metadata": {},
          "execution_count": 30
        },
        {
          "output_type": "display_data",
          "data": {
            "text/plain": [
              "<Figure size 432x288 with 1 Axes>"
            ],
            "image/png": "[encoded data removed]"
          },
          "metadata": {}
        }
      ]
    },
    {
      "cell_type": "markdown",
      "source": [
        "# Using different transformations on dataset to get different r^2 value"
      ],
      "metadata": {
        "id": "tZbyHmQ_-EGt"
      }
    },
    {
      "cell_type": "markdown",
      "source": [
        "Log Transformation"
      ],
      "metadata": {
        "id": "V0PmDGL7AWFp"
      }
    },
    {
      "cell_type": "code",
      "source": [
        "y_log=np.log(y)"
      ],
      "metadata": {
        "id": "EM9_AxD_-0VH"
      },
      "execution_count": 31,
      "outputs": []
    },
    {
      "cell_type": "code",
      "source": [
        "#Fitting the model\n",
        "regressor = LinearRegression()\n",
        "regressor.fit(X,y_log)"
      ],
      "metadata": {
        "colab": {
          "base_uri": "https://localhost:8080/"
        },
        "id": "fT-6XYkp_WAj",
        "outputId": "88c312b6-b34c-4d6b-f367-ac3e7e0391b0"
      },
      "execution_count": 32,
      "outputs": [
        {
          "output_type": "execute_result",
          "data": {
            "text/plain": [
              "LinearRegression()"
            ]
          },
          "metadata": {},
          "execution_count": 32
        }
      ]
    },
    {
      "cell_type": "code",
      "source": [
        "#Predict my test results\n",
        "y_log_pred = regressor.predict(X)"
      ],
      "metadata": {
        "id": "7U9h77rY_0cA"
      },
      "execution_count": 33,
      "outputs": []
    },
    {
      "cell_type": "code",
      "source": [
        "y_log_pred"
      ],
      "metadata": {
        "colab": {
          "base_uri": "https://localhost:8080/"
        },
        "id": "EuJnDsjIf17f",
        "outputId": "60f44bcd-b753-467e-91d8-1d569662ce4c"
      },
      "execution_count": 34,
      "outputs": [
        {
          "output_type": "execute_result",
          "data": {
            "text/plain": [
              "array([12.31221579, 12.19172746, 12.1680684 , 12.08959806, 12.05334466,\n",
              "       11.97524128, 11.74506879, 12.02054955, 11.93019309, 11.78758327,\n",
              "       11.72805014, 11.58687776, 11.72295406, 11.5982986 , 11.91624656,\n",
              "       11.81674817, 11.51064643, 11.75214702, 11.73359755, 11.66473265,\n",
              "       11.52093052, 11.6864515 , 11.65151008, 11.59334233, 11.46433423,\n",
              "       11.345938  , 11.53665536, 11.66383619, 11.52097656, 11.44102617,\n",
              "       11.38455925, 11.39828765, 11.2431264 , 11.44089785, 11.33123315,\n",
              "       11.32667906, 11.30813448, 11.16381847, 11.1364504 , 11.15503677,\n",
              "       11.14464729, 11.21467016, 11.06366786, 11.05792195, 11.02674225,\n",
              "       10.94109333, 11.22309289, 11.48660077, 11.04046126, 11.30218521])"
            ]
          },
          "metadata": {},
          "execution_count": 34
        }
      ]
    },
    {
      "cell_type": "code",
      "source": [
        "r2_score(y_log,y_log_pred)"
      ],
      "metadata": {
        "colab": {
          "base_uri": "https://localhost:8080/"
        },
        "id": "zIam860vS3k7",
        "outputId": "f7bb8403-0f84-47ab-f37d-9db1543cd987"
      },
      "execution_count": 35,
      "outputs": [
        {
          "output_type": "execute_result",
          "data": {
            "text/plain": [
              "0.5370528639031807"
            ]
          },
          "metadata": {},
          "execution_count": 35
        }
      ]
    },
    {
      "cell_type": "code",
      "source": [
        "plt.scatter(y_log,y_log_pred)"
      ],
      "metadata": {
        "colab": {
          "base_uri": "https://localhost:8080/",
          "height": 283
        },
        "id": "_JZop_U-To2R",
        "outputId": "54e0e313-0b7d-4e0c-a041-b26c689b0346"
      },
      "execution_count": 44,
      "outputs": [
        {
          "output_type": "execute_result",
          "data": {
            "text/plain": [
              "<matplotlib.collections.PathCollection at 0x7fdcd58b89a0>"
            ]
          },
          "metadata": {},
          "execution_count": 44
        },
        {
          "output_type": "display_data",
          "data": {
            "text/plain": [
              "<Figure size 432x288 with 1 Axes>"
            ],
            "image/png": "[encoded data removed]"
          },
          "metadata": {}
        }
      ]
    },
    {
      "cell_type": "markdown",
      "source": [
        "Sqrt Transformation"
      ],
      "metadata": {
        "id": "WXnrp95qAqvU"
      }
    },
    {
      "cell_type": "code",
      "source": [
        "y_sqrt=np.sqrt(y)"
      ],
      "metadata": {
        "id": "PH_gCN8GA0nn"
      },
      "execution_count": 36,
      "outputs": []
    },
    {
      "cell_type": "code",
      "source": [
        "#Fitting the model\n",
        "regressor = LinearRegression()\n",
        "regressor.fit(X,y_sqrt)"
      ],
      "metadata": {
        "colab": {
          "base_uri": "https://localhost:8080/"
        },
        "outputId": "22b25ecf-5da1-4c90-a8c2-ddbbb4a9b83b",
        "id": "3diHnLQGA3yw"
      },
      "execution_count": 37,
      "outputs": [
        {
          "output_type": "execute_result",
          "data": {
            "text/plain": [
              "LinearRegression()"
            ]
          },
          "metadata": {},
          "execution_count": 37
        }
      ]
    },
    {
      "cell_type": "code",
      "source": [
        "#Predict my test results\n",
        "y_sqrt_pred = regressor.predict(X)"
      ],
      "metadata": {
        "id": "dmMqu5aBA6if"
      },
      "execution_count": 38,
      "outputs": []
    },
    {
      "cell_type": "code",
      "source": [
        "r2_score(y_sqrt,y_sqrt_pred)"
      ],
      "metadata": {
        "colab": {
          "base_uri": "https://localhost:8080/"
        },
        "id": "MWx_jhChTFQa",
        "outputId": "885bddfb-be72-4e84-d6bd-bd1555358e9a"
      },
      "execution_count": 39,
      "outputs": [
        {
          "output_type": "execute_result",
          "data": {
            "text/plain": [
              "0.6990992758193881"
            ]
          },
          "metadata": {},
          "execution_count": 39
        }
      ]
    },
    {
      "cell_type": "code",
      "source": [
        "plt.scatter(y_sqrt,y_sqrt_pred)"
      ],
      "metadata": {
        "colab": {
          "base_uri": "https://localhost:8080/",
          "height": 283
        },
        "id": "nUW8rEiBTxmq",
        "outputId": "4e48f2c9-54e2-4f4f-db22-82e588eba7d3"
      },
      "execution_count": 45,
      "outputs": [
        {
          "output_type": "execute_result",
          "data": {
            "text/plain": [
              "<matplotlib.collections.PathCollection at 0x7fdcd5846a30>"
            ]
          },
          "metadata": {},
          "execution_count": 45
        },
        {
          "output_type": "display_data",
          "data": {
            "text/plain": [
              "<Figure size 432x288 with 1 Axes>"
            ],
            "image/png": "[encoded data removed]"
          },
          "metadata": {}
        }
      ]
    },
    {
      "cell_type": "markdown",
      "source": [
        "cbrt Transformation"
      ],
      "metadata": {
        "id": "VlFZ8qwiIK6Q"
      }
    },
    {
      "cell_type": "code",
      "source": [
        "y_cbrt=np.cbrt(y)"
      ],
      "metadata": {
        "id": "jnP4obx-IRmE"
      },
      "execution_count": 40,
      "outputs": []
    },
    {
      "cell_type": "code",
      "source": [
        "#Fitting the model\n",
        "regressor = LinearRegression()\n",
        "regressor.fit(X,y_cbrt)"
      ],
      "metadata": {
        "colab": {
          "base_uri": "https://localhost:8080/"
        },
        "outputId": "12c263a7-e3e1-4e27-c20b-acc26546a90e",
        "id": "0qrDVBTgIVR5"
      },
      "execution_count": 41,
      "outputs": [
        {
          "output_type": "execute_result",
          "data": {
            "text/plain": [
              "LinearRegression()"
            ]
          },
          "metadata": {},
          "execution_count": 41
        }
      ]
    },
    {
      "cell_type": "code",
      "source": [
        "#Predict my test results\n",
        "y_cbrt_pred = regressor.predict(X)"
      ],
      "metadata": {
        "id": "BSKtPS68IYco"
      },
      "execution_count": 42,
      "outputs": []
    },
    {
      "cell_type": "code",
      "source": [
        "r2_score(y_cbrt,y_cbrt_pred)"
      ],
      "metadata": {
        "colab": {
          "base_uri": "https://localhost:8080/"
        },
        "id": "9TvZYh9lTNOc",
        "outputId": "ae2f6c9f-2ed9-4013-c8e9-52d3f3bfadf1"
      },
      "execution_count": 43,
      "outputs": [
        {
          "output_type": "execute_result",
          "data": {
            "text/plain": [
              "0.650985442178361"
            ]
          },
          "metadata": {},
          "execution_count": 43
        }
      ]
    },
    {
      "cell_type": "code",
      "source": [
        "plt.scatter(y_cbrt,y_cbrt_pred)"
      ],
      "metadata": {
        "colab": {
          "base_uri": "https://localhost:8080/",
          "height": 285
        },
        "id": "p0OQ27ojT8jI",
        "outputId": "49230c10-39ce-43ea-dd5b-8bd563d3a4cf"
      },
      "execution_count": 46,
      "outputs": [
        {
          "output_type": "execute_result",
          "data": {
            "text/plain": [
              "<matplotlib.collections.PathCollection at 0x7fdcd57b4940>"
            ]
          },
          "metadata": {},
          "execution_count": 46
        },
        {
          "output_type": "display_data",
          "data": {
            "text/plain": [
              "<Figure size 432x288 with 1 Axes>"
            ],
            "image/png": "[encoded data removed]"
          },
          "metadata": {}
        }
      ]
    },
    {
      "cell_type": "code",
      "source": [
        "data = [{'R Square Values': r2_score(y,y_pred)},\n",
        "        {'R Square Values': r2_score(y_log,y_log_pred)},\n",
        "        {'R Square Values': r2_score(y_sqrt,y_sqrt_pred)},\n",
        "        {'R Square Values': r2_score(y_cbrt,y_cbrt_pred)}]\n",
        "\n",
        "df = pd.DataFrame(data, index =['without any modification',\n",
        "                                        'transformation using log',\n",
        "                                        'transformation using sqrt',\n",
        "                                        'transformation using cbrt'])\n",
        "df"
      ],
      "metadata": {
        "colab": {
          "base_uri": "https://localhost:8080/",
          "height": 175
        },
        "id": "Wbo96ThrUdhQ",
        "outputId": "d9abd62b-dddc-4939-b787-1782a231ba23"
      },
      "execution_count": 50,
      "outputs": [
        {
          "output_type": "execute_result",
          "data": {
            "text/plain": [
              "                           R Square Values\n",
              "without any modification          0.802198\n",
              "transformation using log          0.537053\n",
              "transformation using sqrt         0.699099\n",
              "transformation using cbrt         0.650985"
            ],
            "text/html": [
              "\n",
              "  <div id=\"df-7ee9505d-870c-4019-a9d0-fb55606ffd01\">\n",
              "    <div class=\"colab-df-container\">\n",
              "      <div>\n",
              "<style scoped>\n",
              "    .dataframe tbody tr th:only-of-type {\n",
              "        vertical-align: middle;\n",
              "    }\n",
              "\n",
              "    .dataframe tbody tr th {\n",
              "        vertical-align: top;\n",
              "    }\n",
              "\n",
              "    .dataframe thead th {\n",
              "        text-align: right;\n",
              "    }\n",
              "</style>\n",
              "<table border=\"1\" class=\"dataframe\">\n",
              "  <thead>\n",
              "    <tr style=\"text-align: right;\">\n",
              "      <th></th>\n",
              "      <th>R Square Values</th>\n",
              "    </tr>\n",
              "  </thead>\n",
              "  <tbody>\n",
              "    <tr>\n",
              "      <th>without any modification</th>\n",
              "      <td>0.802198</td>\n",
              "    </tr>\n",
              "    <tr>\n",
              "      <th>transformation using log</th>\n",
              "      <td>0.537053</td>\n",
              "    </tr>\n",
              "    <tr>\n",
              "      <th>transformation using sqrt</th>\n",
              "      <td>0.699099</td>\n",
              "    </tr>\n",
              "    <tr>\n",
              "      <th>transformation using cbrt</th>\n",
              "      <td>0.650985</td>\n",
              "    </tr>\n",
              "  </tbody>\n",
              "</table>\n",
              "</div>\n",
              "      <button class=\"colab-df-convert\" onclick=\"convertToInteractive('df-7ee9505d-870c-4019-a9d0-fb55606ffd01')\"\n",
              "              title=\"Convert this dataframe to an interactive table.\"\n",
              "              style=\"display:none;\">\n",
              "        \n",
              "  <svg xmlns=\"http://www.w3.org/2000/svg\" height=\"24px\"viewBox=\"0 0 24 24\"\n",
              "       width=\"24px\">\n",
              "    <path d=\"M0 0h24v24H0V0z\" fill=\"none\"/>\n",
              "    <path d=\"M18.56 5.44l.94 2.06.94-2.06 2.06-.94-2.06-.94-.94-2.06-.94 2.06-2.06.94zm-11 1L8.5 8.5l.94-2.06 2.06-.94-2.06-.94L8.5 2.5l-.94 2.06-2.06.94zm10 10l.94 2.06.94-2.06 2.06-.94-2.06-.94-.94-2.06-.94 2.06-2.06.94z\"/><path d=\"M17.41 7.96l-1.37-1.37c-.4-.4-.92-.59-1.43-.59-.52 0-1.04.2-1.43.59L10.3 9.45l-7.72 7.72c-.78.78-.78 2.05 0 2.83L4 21.41c.39.39.9.59 1.41.59.51 0 1.02-.2 1.41-.59l7.78-7.78 2.81-2.81c.8-.78.8-2.07 0-2.86zM5.41 20L4 18.59l7.72-7.72 1.47 1.35L5.41 20z\"/>\n",
              "  </svg>\n",
              "      </button>\n",
              "      \n",
              "  <style>\n",
              "    .colab-df-container {\n",
              "      display:flex;\n",
              "      flex-wrap:wrap;\n",
              "      gap: 12px;\n",
              "    }\n",
              "\n",
              "    .colab-df-convert {\n",
              "      background-color: #E8F0FE;\n",
              "      border: none;\n",
              "      border-radius: 50%;\n",
              "      cursor: pointer;\n",
              "      display: none;\n",
              "      fill: #1967D2;\n",
              "      height: 32px;\n",
              "      padding: 0 0 0 0;\n",
              "      width: 32px;\n",
              "    }\n",
              "\n",
              "    .colab-df-convert:hover {\n",
              "      background-color: #E2EBFA;\n",
              "      box-shadow: 0px 1px 2px rgba(60, 64, 67, 0.3), 0px 1px 3px 1px rgba(60, 64, 67, 0.15);\n",
              "      fill: #174EA6;\n",
              "    }\n",
              "\n",
              "    [theme=dark] .colab-df-convert {\n",
              "      background-color: #3B4455;\n",
              "      fill: #D2E3FC;\n",
              "    }\n",
              "\n",
              "    [theme=dark] .colab-df-convert:hover {\n",
              "      background-color: #434B5C;\n",
              "      box-shadow: 0px 1px 3px 1px rgba(0, 0, 0, 0.15);\n",
              "      filter: drop-shadow(0px 1px 2px rgba(0, 0, 0, 0.3));\n",
              "      fill: #FFFFFF;\n",
              "    }\n",
              "  </style>\n",
              "\n",
              "      <script>\n",
              "        const buttonEl =\n",
              "          document.querySelector('#df-7ee9505d-870c-4019-a9d0-fb55606ffd01 button.colab-df-convert');\n",
              "        buttonEl.style.display =\n",
              "          google.colab.kernel.accessAllowed ? 'block' : 'none';\n",
              "\n",
              "        async function convertToInteractive(key) {\n",
              "          const element = document.querySelector('#df-7ee9505d-870c-4019-a9d0-fb55606ffd01');\n",
              "          const dataTable =\n",
              "            await google.colab.kernel.invokeFunction('convertToInteractive',\n",
              "                                                     [key], {});\n",
              "          if (!dataTable) return;\n",
              "\n",
              "          const docLinkHtml = 'Like what you see? Visit the ' +\n",
              "            '<a target=\"_blank\" href=https://colab.research.google.com/notebooks/data_table.ipynb>data table notebook</a>'\n",
              "            + ' to learn more about interactive tables.';\n",
              "          element.innerHTML = '';\n",
              "          dataTable['output_type'] = 'display_data';\n",
              "          await google.colab.output.renderOutput(dataTable, element);\n",
              "          const docLink = document.createElement('div');\n",
              "          docLink.innerHTML = docLinkHtml;\n",
              "          element.appendChild(docLink);\n",
              "        }\n",
              "      </script>\n",
              "    </div>\n",
              "  </div>\n",
              "  "
            ]
          },
          "metadata": {},
          "execution_count": 50
        }
      ]
    },
    {
      "cell_type": "markdown",
      "source": [
        "From the above table it is clear that performing different transformation reducing the efficiency of the model,model without transformation are in good agreement."
      ],
      "metadata": {
        "id": "jgnp3wJmbrXH"
      }
    }
  ]
}